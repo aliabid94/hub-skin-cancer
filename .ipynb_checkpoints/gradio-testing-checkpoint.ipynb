{
 "cells": [
  {
   "cell_type": "markdown",
   "metadata": {},
   "source": [
    "## Regular gradio setup"
   ]
  },
  {
   "cell_type": "code",
   "execution_count": 6,
   "metadata": {},
   "outputs": [
    {
     "name": "stdout",
     "output_type": "stream",
     "text": [
      "1.13.1\n"
     ]
    }
   ],
   "source": [
    "import gradio\n",
    "from skimage import io\n",
    "import base64\n",
    "from tensorflow.keras.models import load_model\n",
    "from src.moleimages import MoleImages\n",
    "import tensorflow\n",
    "import numpy as np\n",
    "print(tensorflow.__version__)"
   ]
  },
  {
   "cell_type": "code",
   "execution_count": 7,
   "metadata": {},
   "outputs": [],
   "source": [
    "def load():\n",
    "    model = load_model(\"./models/mymodel-2.h5\")\n",
    "    return model \n",
    "\n",
    "def predict(inp, model):\n",
    "    inp = inp.split(';')[1]\n",
    "    inp = inp.split(',')[1]\n",
    "    if isinstance(inp, bytes):\n",
    "        inp = inp.decode(\"utf-8\")\n",
    "\n",
    "    inp = base64.b64decode(inp)\n",
    "    img = io.imread(inp, plugin='imageio')\n",
    "    \n",
    "    mimg = MoleImages()\n",
    "    X = mimg.load_image(img)\n",
    "    y_pred = model.predict(X)\n",
    "    return np.asarray([y_pred, 1 - y_pred])"
   ]
  },
  {
   "cell_type": "code",
   "execution_count": 8,
   "metadata": {},
   "outputs": [],
   "source": [
    "def serving(inp):\n",
    "    model = load()\n",
    "    return predict(inp, model)"
   ]
  },
  {
   "cell_type": "code",
   "execution_count": 9,
   "metadata": {},
   "outputs": [],
   "source": [
    "def no_pp(inp):\n",
    "    return inp\n",
    "\n",
    "image_up = gradio.inputs.ImageUpload(preprocessing_fn=no_pp)\n",
    "label = gradio.outputs.Label(label_names=[\"benign\", \"malign\"], num_top_classes=2)\n",
    "iface = gradio.Interface(inputs=image_up, outputs=label, model_type=\"pyfunc\", model=serving)"
   ]
  },
  {
   "cell_type": "code",
   "execution_count": 10,
   "metadata": {
    "scrolled": false
   },
   "outputs": [
    {
     "name": "stdout",
     "output_type": "stream",
     "text": [
      "NOTE: Gradio is in beta stage, please report all bugs to: gradio.app@gmail.com\n",
      "Model is running locally at: http://localhost:7861/\n",
      "To create a public link, set `share=True` in the argument to `launch()`.\n"
     ]
    },
    {
     "data": {
      "text/html": [
       "\n",
       "        <iframe\n",
       "            width=\"1000\"\n",
       "            height=\"500\"\n",
       "            src=\"http://localhost:7861/\"\n",
       "            frameborder=\"0\"\n",
       "            allowfullscreen\n",
       "        ></iframe>\n",
       "        "
      ],
      "text/plain": [
       "<IPython.lib.display.IFrame at 0x131610048>"
      ]
     },
     "metadata": {},
     "output_type": "display_data"
    },
    {
     "data": {
      "text/plain": [
       "(<gradio.networking.serve_files_in_background.<locals>.HTTPServer at 0x1316866a0>,\n",
       " 'http://localhost:7861/',\n",
       " None)"
      ]
     },
     "execution_count": 10,
     "metadata": {},
     "output_type": "execute_result"
    }
   ],
   "source": [
    "iface.launch(validate=False, inline=True, share=False)"
   ]
  },
  {
   "cell_type": "markdown",
   "metadata": {},
   "source": [
    "## Launch from config"
   ]
  },
  {
   "cell_type": "code",
   "execution_count": 1,
   "metadata": {},
   "outputs": [],
   "source": [
    "import sys\n",
    "\n",
    "def launch_from_config(config_path, inline=True, inbrowser=None, share=True):\n",
    "#     sys.path.append(config_path)\n",
    "    from gradio_config import load, predict, INPUT, OUTPUT\n",
    "    model = load()\n",
    "    \n",
    "    iface = gradio.Interface(inputs=INPUT, outputs=OUTPUT, model_type=\"pyfunc\", model=predict)\n",
    "    \n",
    "    iface.launch(inline=inline, inbrowser=inbrowser, share=share, validate=False)\n"
   ]
  },
  {
   "cell_type": "code",
   "execution_count": 4,
   "metadata": {},
   "outputs": [
    {
     "name": "stdout",
     "output_type": "stream",
     "text": [
      "NOTE: Gradio is in beta stage, please report all bugs to: gradio.app@gmail.com\n",
      "Model is running locally at: http://localhost:7860/\n",
      "Model available publicly at: https://30126.gradio.app (may take up to a minute for link to be usable)\n"
     ]
    },
    {
     "data": {
      "text/html": [
       "\n",
       "        <iframe\n",
       "            width=\"1000\"\n",
       "            height=\"500\"\n",
       "            src=\"http://localhost:7860/\"\n",
       "            frameborder=\"0\"\n",
       "            allowfullscreen\n",
       "        ></iframe>\n",
       "        "
      ],
      "text/plain": [
       "<IPython.lib.display.IFrame at 0x12f682e80>"
      ]
     },
     "metadata": {},
     "output_type": "display_data"
    }
   ],
   "source": [
    "launch_from_config(\"gradio_config.py\")"
   ]
  },
  {
   "cell_type": "code",
   "execution_count": null,
   "metadata": {},
   "outputs": [],
   "source": []
  }
 ],
 "metadata": {
  "kernelspec": {
   "display_name": "Python 3",
   "language": "python",
   "name": "python3"
  },
  "language_info": {
   "codemirror_mode": {
    "name": "ipython",
    "version": 3
   },
   "file_extension": ".py",
   "mimetype": "text/x-python",
   "name": "python",
   "nbconvert_exporter": "python",
   "pygments_lexer": "ipython3",
   "version": "3.7.3"
  }
 },
 "nbformat": 4,
 "nbformat_minor": 2
}
